{
  "nbformat": 4,
  "nbformat_minor": 0,
  "metadata": {
    "colab": {
      "provenance": [],
      "authorship_tag": "ABX9TyMRxAeuN6rOFJcb1snpV8lt",
      "include_colab_link": true
    },
    "kernelspec": {
      "name": "python3",
      "display_name": "Python 3"
    },
    "language_info": {
      "name": "python"
    }
  },
  "cells": [
    {
      "cell_type": "markdown",
      "metadata": {
        "id": "view-in-github",
        "colab_type": "text"
      },
      "source": [
        "<a href=\"https://colab.research.google.com/github/FahimS45/Geometry/blob/master/Self_practice.ipynb\" target=\"_parent\"><img src=\"https://colab.research.google.com/assets/colab-badge.svg\" alt=\"Open In Colab\"/></a>"
      ]
    },
    {
      "cell_type": "code",
      "execution_count": null,
      "metadata": {
        "colab": {
          "base_uri": "https://localhost:8080/"
        },
        "id": "9u2bs8Pbx-gj",
        "outputId": "51ed9c47-a2fb-4b19-b638-ff9fc2bad4df"
      },
      "outputs": [
        {
          "output_type": "stream",
          "name": "stdout",
          "text": [
            "6\n"
          ]
        }
      ],
      "source": [
        "a = 2\n",
        "b = 4\n",
        "c = a+b\n",
        "print(c)"
      ]
    },
    {
      "cell_type": "code",
      "source": [
        "number = int(input(\"Please enter you number: \"))\n",
        "print(\"You number: \",number)"
      ],
      "metadata": {
        "colab": {
          "base_uri": "https://localhost:8080/"
        },
        "id": "kUOMlpxQHLSO",
        "outputId": "64f70567-22a4-48c6-e022-4f83e55ac019"
      },
      "execution_count": null,
      "outputs": [
        {
          "output_type": "stream",
          "name": "stdout",
          "text": [
            "Please enter you number: 100\n",
            "You number:  100\n"
          ]
        }
      ]
    },
    {
      "cell_type": "code",
      "source": [
        "list2 = [each ** 2 for each in range(7)]\n",
        "print(list2)"
      ],
      "metadata": {
        "colab": {
          "base_uri": "https://localhost:8080/"
        },
        "id": "Mdb7MHBH51m1",
        "outputId": "acb1112d-b7a1-4fb7-dc7e-0e643ba955cf"
      },
      "execution_count": null,
      "outputs": [
        {
          "output_type": "stream",
          "name": "stdout",
          "text": [
            "[0, 1, 4, 9, 16, 25, 36]\n"
          ]
        }
      ]
    },
    {
      "cell_type": "code",
      "source": [
        "even_list = [each for each in range (1,11) if each % 2 == 0 or each % 3 == 0]\n",
        "print(even_list)\n"
      ],
      "metadata": {
        "colab": {
          "base_uri": "https://localhost:8080/"
        },
        "id": "1zxHhqyY6dgO",
        "outputId": "ca360539-bfe4-40a9-a3ac-6caa28f668ba"
      },
      "execution_count": null,
      "outputs": [
        {
          "output_type": "stream",
          "name": "stdout",
          "text": [
            "[2, 3, 4, 6, 8, 9, 10]\n"
          ]
        }
      ]
    },
    {
      "cell_type": "code",
      "source": [
        "#matrix #array\n",
        "from numpy import *\n",
        "m1 = matrix('1,2,3;10,20,30')\n",
        "print(m1)\n",
        "print()\n",
        "m2 = array([[1,2,3],\n",
        "      [10,20,30]])\n",
        "print(m2)\n",
        "\n"
      ],
      "metadata": {
        "colab": {
          "base_uri": "https://localhost:8080/"
        },
        "id": "m1glqgTs9u1E",
        "outputId": "104c0b60-c7a6-4e76-e8bb-7b3729f2fd17"
      },
      "execution_count": null,
      "outputs": [
        {
          "output_type": "stream",
          "name": "stdout",
          "text": [
            "[[ 1  2  3]\n",
            " [10 20 30]]\n",
            "[[ 1  2  3]\n",
            " [10 20 30]]\n"
          ]
        }
      ]
    },
    {
      "cell_type": "code",
      "source": [
        "even_list = []\n",
        "odd_list = []\n",
        "list = [even_list.append(each) if each%2==0 else odd_list.append(each) for each in range(10)]\n",
        "print(list)\n"
      ],
      "metadata": {
        "colab": {
          "base_uri": "https://localhost:8080/"
        },
        "id": "zhEhgkZ-_G_v",
        "outputId": "53dbb5f4-02fd-42c5-a5d4-f6cdaa41f5f0"
      },
      "execution_count": null,
      "outputs": [
        {
          "output_type": "stream",
          "name": "stdout",
          "text": [
            "[None, None, None, None, None, None, None, None, None, None]\n"
          ]
        }
      ]
    },
    {
      "cell_type": "code",
      "source": [
        "# In general way\n",
        "from numpy import *\n",
        "transposed_matrix = []\n",
        "matrix = array ([[1, 2, 3, 4], [4, 5, 6, 8]])\n",
        "for i in range(len(matrix[0])):\n",
        "        transposed_row = []\n",
        "\n",
        "        for row in matrix:\n",
        "              transposed_row.append(row[i])\n",
        "        transposed_matrix.append(transposed_row)\n",
        "new_matrix = array ([transposed_matrix])\n",
        "print(new_matrix)\n"
      ],
      "metadata": {
        "colab": {
          "base_uri": "https://localhost:8080/"
        },
        "id": "5AJysbUsNANF",
        "outputId": "2e211e3a-cd2e-4d97-e45b-f2f77537c089"
      },
      "execution_count": null,
      "outputs": [
        {
          "output_type": "stream",
          "name": "stdout",
          "text": [
            "[4 5 6 8]\n",
            "[[[1 4]\n",
            "  [2 5]\n",
            "  [3 6]\n",
            "  [4 8]]]\n"
          ]
        }
      ]
    },
    {
      "cell_type": "code",
      "source": [
        "# Finding Transpose of a Matrix using List Comprehension\n",
        "matrix = [[1, 2], [3,4], [5,6], [7,8]]\n",
        "transpose_matrix = [[row[i] for row in matrix] for i in range(len(matrix[0]))]\n",
        "print (transpose_matrix)"
      ],
      "metadata": {
        "colab": {
          "base_uri": "https://localhost:8080/"
        },
        "id": "l8TxH-ReQIVL",
        "outputId": "f517c591-45c9-4ec0-d80a-199788b9d56f"
      },
      "execution_count": null,
      "outputs": [
        {
          "output_type": "stream",
          "name": "stdout",
          "text": [
            "[5, 6]\n",
            "[[1, 3, 5, 7], [2, 4, 6, 8]]\n"
          ]
        }
      ]
    },
    {
      "cell_type": "code",
      "source": [
        "import ast\n",
        "\n",
        "code = \"print('Hello, world!')\"\n",
        "tree = ast.parse(code)\n",
        "\n",
        "print(ast.dump(tree))\n",
        "  "
      ],
      "metadata": {
        "id": "WNEp0NB8QT8n",
        "outputId": "9f972ed1-f589-41b4-9156-9c971af12cfd",
        "colab": {
          "base_uri": "https://localhost:8080/"
        }
      },
      "execution_count": null,
      "outputs": [
        {
          "output_type": "stream",
          "name": "stdout",
          "text": [
            "Module(body=[Expr(value=Call(func=Name(id='print', ctx=Load()), args=[Constant(value='Hello, world!')], keywords=[]))], type_ignores=[])\n"
          ]
        }
      ]
    },
    {
      "cell_type": "code",
      "source": [
        "def count_vowels(string):\n",
        "    vowels = \"aeiouAEIOU\"\n",
        "    count = 0\n",
        "    for char in string:\n",
        "        if char in vowels:\n",
        "            count += 1\n",
        "    return count\n",
        "\n",
        "print(\"Number of Vowels: \",count_vowels(input(\"Please enter you String: \")))"
      ],
      "metadata": {
        "colab": {
          "base_uri": "https://localhost:8080/"
        },
        "id": "36RX21P9_MUH",
        "outputId": "b1e0f5fd-72a4-4a7e-9b02-107e1924c8ae"
      },
      "execution_count": null,
      "outputs": [
        {
          "output_type": "stream",
          "name": "stdout",
          "text": [
            "Please enter you String: Appliano\n",
            "Number of Vowels:  4\n"
          ]
        }
      ]
    },
    {
      "cell_type": "code",
      "source": [
        "def check(list):\n",
        "  new_list = []\n",
        "  for each in list:\n",
        "    if each.startswith(\"a\") or each.startswith(\"A\"):\n",
        "      new_list.append(each)\n",
        "    else:\n",
        "      pass\n",
        "  return new_list\n",
        "strings = [\"Apple\", \"Kimra\", \"awesome\", \"Army\", \"banana\"]\n",
        "print(\"Final list: \",check(strings))\n"
      ],
      "metadata": {
        "colab": {
          "base_uri": "https://localhost:8080/"
        },
        "id": "MlCahdegCPWE",
        "outputId": "40c90be9-0d2f-4f79-bbe4-f41b172bc060"
      },
      "execution_count": null,
      "outputs": [
        {
          "output_type": "stream",
          "name": "stdout",
          "text": [
            "Final list:  ['Apple', 'awesome', 'Army']\n"
          ]
        }
      ]
    },
    {
      "cell_type": "code",
      "source": [
        "class Animal:\n",
        "    def make_sound(self):\n",
        "        print(\"The animal makes a sound.\")\n",
        "\n",
        "class Dog(Animal):\n",
        "    def make_sound(self):\n",
        "        print(\"The dog barks.\")\n",
        "\n",
        "# Create an object of the Dog class\n",
        "random_animal = Animal()\n",
        "\n",
        "# Call the make_sound method on the Dog object\n",
        "random_animal.make_sound() # Output: The dog barks."
      ],
      "metadata": {
        "colab": {
          "base_uri": "https://localhost:8080/"
        },
        "id": "LOrXudMtF1dL",
        "outputId": "9af13abc-1bcd-4e60-c6de-007446bcd0f8"
      },
      "execution_count": null,
      "outputs": [
        {
          "output_type": "stream",
          "name": "stdout",
          "text": [
            "The animal makes a sound.\n"
          ]
        }
      ]
    },
    {
      "cell_type": "code",
      "source": [
        "class Calculator:\n",
        "    def add(self, x, *y):\n",
        "        a = x\n",
        "        for i in y:\n",
        "          a = a + i\n",
        "        return a\n",
        "        \n",
        "# Create an object of the Calculator class\n",
        "calc = Calculator()\n",
        "\n",
        "# Call the add method with two arguments\n",
        "print(calc.add(1, 2, 4, 5, 6, 8)) # Output: 3\n",
        "\n",
        "# Call the add method with three arguments\n",
        "# print(calc.add(1, 2, 3)) # Output: 6"
      ],
      "metadata": {
        "colab": {
          "base_uri": "https://localhost:8080/"
        },
        "id": "jtaWMmZLHnab",
        "outputId": "53dad66a-adbc-4bc7-f14a-0db858e578a9"
      },
      "execution_count": null,
      "outputs": [
        {
          "output_type": "stream",
          "name": "stdout",
          "text": [
            "26\n"
          ]
        }
      ]
    },
    {
      "cell_type": "code",
      "source": [
        "from abc import ABC, abstractmethod\n",
        "\n",
        "class Shape(ABC):\n",
        "  @abstractmethod\n",
        "  def area (self):\n",
        "    pass\n",
        "class Triangle(Shape):\n"
      ],
      "metadata": {
        "colab": {
          "base_uri": "https://localhost:8080/"
        },
        "id": "7be8ZKILN5fY",
        "outputId": "89a13a81-50c0-4523-a9af-85432ec3943e"
      },
      "execution_count": null,
      "outputs": [
        {
          "output_type": "stream",
          "name": "stdout",
          "text": [
            "(1, 2, 3, 4)\n"
          ]
        }
      ]
    },
    {
      "cell_type": "code",
      "source": [
        "lst = [1, 2, 3]\n",
        "lst[0] = 3\n",
        "print(lst)\n",
        "\n"
      ],
      "metadata": {
        "colab": {
          "base_uri": "https://localhost:8080/"
        },
        "id": "BSQOrTbJ5HC4",
        "outputId": "60e1625b-590b-467d-a088-64442d02fa71"
      },
      "execution_count": null,
      "outputs": [
        {
          "output_type": "stream",
          "name": "stdout",
          "text": [
            "[3, 2, 3]\n"
          ]
        }
      ]
    },
    {
      "cell_type": "code",
      "source": [
        "lst = [1,2,3]\n",
        "sorted_lst = sorted(lst)\n",
        "print(lst)\n",
        "print(len(lst))"
      ],
      "metadata": {
        "colab": {
          "base_uri": "https://localhost:8080/"
        },
        "id": "L4M0A5k7cBE3",
        "outputId": "4141c121-48c3-4c93-81e3-5497862055de"
      },
      "execution_count": null,
      "outputs": [
        {
          "output_type": "stream",
          "name": "stdout",
          "text": [
            "[1, 2, 3]\n",
            "3\n"
          ]
        }
      ]
    },
    {
      "cell_type": "code",
      "source": [
        "from abc import ABC, abstractmethod\n",
        "\n",
        "class Geometry_prop(ABC):\n",
        "    @abstractmethod\n",
        "    def types(self):\n",
        "        pass\n",
        "\n",
        "    @abstractmethod\n",
        "    def area(self):\n",
        "        pass\n",
        "\n",
        "    @abstractmethod\n",
        "    def angle_sum(self):\n",
        "        pass\n",
        "\n",
        "intro_input = input(\"Welcome to 'GEOMETRY WITH FUN'\\nTo learn 3-sided geometry, enter '3'\\nTo learn 4-sided geometry, enter '4'\\nTo learn Circular geometry, enter '0': \")\n",
        "\n",
        "if intro_input == '3':\n",
        "    class Triangles(Geometry_prop):\n",
        "        def __init__(self, side1, side2):\n",
        "            self.side1 = side1\n",
        "            self.side2 = side2\n",
        "\n",
        "        def types(self):\n",
        "            print(\"There are in general three types of triangles. They are as follows:\\n1. Equilateral triangle\\n2. Isoceles triangle\\n3. Isoceles-right triangle\")\n",
        "\n",
        "        def area(self):\n",
        "            height = (self.side1**2 - self.side2**2)**0.5\n",
        "            length = self.side2\n",
        "            return 2 * (0.5 * height * length)\n",
        "\n",
        "        def angle_sum(self):\n",
        "            print(\"The sum of the interior angles of any triangle is always '180 degrees'.\")\n",
        "\n",
        "    seq = [\"1st\", \"2nd\", \"3rd\"]\n",
        "    tri_sides = []\n",
        "    for i in seq:\n",
        "        while True:\n",
        "            input_len = int(input(f\"Please enter the length of {i} side: \"))\n",
        "            if input_len > 0:\n",
        "                tri_sides.append(input_len)\n",
        "                sorted_tri_sides = sorted(tri_sides)\n",
        "                break\n",
        "            else:\n",
        "                print(\"Can't be a value of any real side!\\nPlease input a real value.\")\n",
        "\n",
        "    while sorted_tri_sides[2] > sorted_tri_sides[0] + sorted_tri_sides[1] or sorted_tri_sides[2] < sorted_tri_sides[0] - sorted_tri_sides[1]:\n",
        "        input_len = int(input(\"ERROR!\\nAccording to Triangle's Third rule: 3rd side of any triangle must be less than the sum of the other two sides or greater than the subtraction of the other two sides!\\nPlease enter an acceptable value: \"))\n",
        "        sorted_tri_sides[2] = input_len1\n",
        "        \n",
        "\n",
        "    if sorted_tri_sides[0] == sorted_tri_sides[1] == sorted_tri_sides[2]:\n",
        "        tri = Triangles(sorted_tri_sides[0], sorted_tri_sides[1] * 0.5)\n",
        "        tri.types()\n",
        "        tri.angle_sum()\n",
        "        print(f\"According to your input, it's an 'Equilateral triangle'.\\nAnd the area of such triangle is: {tri.area()}\")\n",
        "\n",
        "    elif sorted_tri_sides[0] == sorted_tri_sides[1]:\n",
        "        tri = Triangles(sorted_tri_sides[0], sorted_tri_sides[1] * 0.5)\n",
        "        tri.types()\n",
        "        tri.angle_sum()\n",
        "        print(f\"According to your input, it's an 'Isoceles/Isoceles-Right triangle'.\\nAnd the area of such triangle is: {tri.area()}\")\n",
        "\n",
        "    else:\n",
        "        tri = Triangles(sorted_tri_sides[0], sorted_tri_sides[1] * 0.5)\n",
        "        tri.types()\n",
        "        tri.angle_sum()\n",
        "        print(\"According to your input, it's an 'Irregular triangle'.\\nAnd the area calculation requires much more complex code!\")\n"
      ],
      "metadata": {
        "colab": {
          "base_uri": "https://localhost:8080/"
        },
        "id": "C-5XhOZQloBy",
        "outputId": "0c28b024-db34-4d24-c403-dcad9681225e"
      },
      "execution_count": null,
      "outputs": [
        {
          "output_type": "stream",
          "name": "stdout",
          "text": [
            "Welcome to 'GEOMETRY WITH FUN'\n",
            "To learn 3-sided geometry, enter '3'\n",
            "To learn 4-sided geometry, enter '4'\n",
            "To learn Circular geometry, enter '0': 3\n",
            "Please enter the length of 1st side: 3\n",
            "Please enter the length of 2nd side: 4\n",
            "Please enter the length of 3rd side: 1\n",
            "There are in general three types of triangles. They are as follows:\n",
            "1. Equilateral triangle\n",
            "2. Isoceles triangle\n",
            "3. Isoceles-right triangle\n",
            "The sum of the interior angles of any triangle is always '180 degrees'.\n",
            "According to your input, it's an 'Irregular triangle'.\n",
            "And the area calculation requires much more complex code!\n"
          ]
        }
      ]
    },
    {
      "cell_type": "code",
      "source": [
        "from abc import ABC, abstractmethod\n",
        "\n",
        "class Geometry_prop(ABC):\n",
        "\n",
        "    @abstractmethod\n",
        "    def area(self, side1, side2):\n",
        "        pass\n",
        "    \n",
        "class rectang(Geometry_prop):\n",
        "    def area(self, side1, sode2):\n",
        "        height = (self.side1**2 - self.side2**2)**0.5\n",
        "        length = self.side2\n",
        "        return 2 * (0.5 * height * length)\n",
        "\n",
        "result = rectang()\n",
        "print(result.area(5,4))"
      ],
      "metadata": {
        "colab": {
          "base_uri": "https://localhost:8080/",
          "height": 336
        },
        "id": "Z_OJHVfI2yTI",
        "outputId": "5d7d8945-3517-4891-ad87-785b77e079bb"
      },
      "execution_count": null,
      "outputs": [
        {
          "output_type": "error",
          "ename": "AttributeError",
          "evalue": "ignored",
          "traceback": [
            "\u001b[0;31m---------------------------------------------------------------------------\u001b[0m",
            "\u001b[0;31mAttributeError\u001b[0m                            Traceback (most recent call last)",
            "\u001b[0;32m<ipython-input-8-9d9af7ee8d50>\u001b[0m in \u001b[0;36m<cell line: 16>\u001b[0;34m()\u001b[0m\n\u001b[1;32m     14\u001b[0m \u001b[0;34m\u001b[0m\u001b[0m\n\u001b[1;32m     15\u001b[0m \u001b[0mresult\u001b[0m \u001b[0;34m=\u001b[0m \u001b[0mrectang\u001b[0m\u001b[0;34m(\u001b[0m\u001b[0;34m)\u001b[0m\u001b[0;34m\u001b[0m\u001b[0;34m\u001b[0m\u001b[0m\n\u001b[0;32m---> 16\u001b[0;31m \u001b[0mprint\u001b[0m\u001b[0;34m(\u001b[0m\u001b[0mresult\u001b[0m\u001b[0;34m.\u001b[0m\u001b[0marea\u001b[0m\u001b[0;34m(\u001b[0m\u001b[0;36m5\u001b[0m\u001b[0;34m,\u001b[0m\u001b[0;36m4\u001b[0m\u001b[0;34m)\u001b[0m\u001b[0;34m)\u001b[0m\u001b[0;34m\u001b[0m\u001b[0;34m\u001b[0m\u001b[0m\n\u001b[0m",
            "\u001b[0;32m<ipython-input-8-9d9af7ee8d50>\u001b[0m in \u001b[0;36marea\u001b[0;34m(self, side1, sode2)\u001b[0m\n\u001b[1;32m      9\u001b[0m \u001b[0;32mclass\u001b[0m \u001b[0mrectang\u001b[0m\u001b[0;34m(\u001b[0m\u001b[0mGeometry_prop\u001b[0m\u001b[0;34m)\u001b[0m\u001b[0;34m:\u001b[0m\u001b[0;34m\u001b[0m\u001b[0;34m\u001b[0m\u001b[0m\n\u001b[1;32m     10\u001b[0m     \u001b[0;32mdef\u001b[0m \u001b[0marea\u001b[0m\u001b[0;34m(\u001b[0m\u001b[0mself\u001b[0m\u001b[0;34m,\u001b[0m \u001b[0mside1\u001b[0m\u001b[0;34m,\u001b[0m \u001b[0msode2\u001b[0m\u001b[0;34m)\u001b[0m\u001b[0;34m:\u001b[0m\u001b[0;34m\u001b[0m\u001b[0;34m\u001b[0m\u001b[0m\n\u001b[0;32m---> 11\u001b[0;31m         \u001b[0mheight\u001b[0m \u001b[0;34m=\u001b[0m \u001b[0;34m(\u001b[0m\u001b[0mself\u001b[0m\u001b[0;34m.\u001b[0m\u001b[0mside1\u001b[0m\u001b[0;34m**\u001b[0m\u001b[0;36m2\u001b[0m \u001b[0;34m-\u001b[0m \u001b[0mself\u001b[0m\u001b[0;34m.\u001b[0m\u001b[0mside2\u001b[0m\u001b[0;34m**\u001b[0m\u001b[0;36m2\u001b[0m\u001b[0;34m)\u001b[0m\u001b[0;34m**\u001b[0m\u001b[0;36m0.5\u001b[0m\u001b[0;34m\u001b[0m\u001b[0;34m\u001b[0m\u001b[0m\n\u001b[0m\u001b[1;32m     12\u001b[0m         \u001b[0mlength\u001b[0m \u001b[0;34m=\u001b[0m \u001b[0mself\u001b[0m\u001b[0;34m.\u001b[0m\u001b[0mside2\u001b[0m\u001b[0;34m\u001b[0m\u001b[0;34m\u001b[0m\u001b[0m\n\u001b[1;32m     13\u001b[0m         \u001b[0;32mreturn\u001b[0m \u001b[0;36m2\u001b[0m \u001b[0;34m*\u001b[0m \u001b[0;34m(\u001b[0m\u001b[0;36m0.5\u001b[0m \u001b[0;34m*\u001b[0m \u001b[0mheight\u001b[0m \u001b[0;34m*\u001b[0m \u001b[0mlength\u001b[0m\u001b[0;34m)\u001b[0m\u001b[0;34m\u001b[0m\u001b[0;34m\u001b[0m\u001b[0m\n",
            "\u001b[0;31mAttributeError\u001b[0m: 'rectang' object has no attribute 'side1'"
          ]
        }
      ]
    },
    {
      "cell_type": "code",
      "source": [
        "class MyClass:\n",
        "    def __init__(self):\n",
        "        self._value = 0\n",
        "\n",
        "    @property\n",
        "    def value(self):\n",
        "        return self._value\n",
        "\n",
        "    @value.setter\n",
        "    def value(self, new_value):\n",
        "        self._value = new_value\n",
        "\n",
        "output = MyClass()\n",
        "print(f\"User's Value: {output.value}\")\n",
        "check_key = input(\"If you are the User, please verify yourself using your surname here: \")\n",
        "if check_key == \"Tasin\":\n",
        "    changed_val = int(input(\"Welcome Mr, Tasin! Please enter the value you want to print: \"))\n",
        "    output.value = changed_val\n",
        "    print(output.value)\n",
        "else:\n",
        "    print(\"You are not authorized to change.\")\n",
        "    \n",
        "\n",
        "\n",
        "\n"
      ],
      "metadata": {
        "colab": {
          "base_uri": "https://localhost:8080/"
        },
        "id": "8mrYOGSIuloQ",
        "outputId": "dc4fe530-547b-4a56-96b4-4071f049ec1b"
      },
      "execution_count": null,
      "outputs": [
        {
          "output_type": "stream",
          "name": "stdout",
          "text": [
            "User's Value: 0\n",
            "If you are the User, please verify yourself using your surname here: Fahim\n",
            "You are not authorized to change.\n"
          ]
        }
      ]
    },
    {
      "cell_type": "code",
      "source": [
        "class Car:\n",
        "    def __init__(self):\n",
        "        self.speed = 0  # private attribute\n",
        "\n",
        "    def accelerate(self, increment):\n",
        "        self.speed += increment\n",
        "\n",
        "    def get_speed(self):\n",
        "        return self.speed\n",
        "\n",
        "\n",
        "my_car = Car()\n",
        "my_car.accelerate(20)\n",
        "print(my_car.speed)\n",
        "print(my_car.get_speed()) "
      ],
      "metadata": {
        "colab": {
          "base_uri": "https://localhost:8080/"
        },
        "id": "oCBQziLsFoQi",
        "outputId": "7bba05d0-0c50-49c4-9fcb-c52603424a2a"
      },
      "execution_count": null,
      "outputs": [
        {
          "output_type": "stream",
          "name": "stdout",
          "text": [
            "20\n",
            "20\n"
          ]
        }
      ]
    },
    {
      "cell_type": "code",
      "source": [
        "class MyBaseClass:\n",
        "    def __init__(self):\n",
        "        self._protected_data = 30\n",
        "\n",
        "class MyDerivedClass(MyBaseClass):\n",
        "    def display_protected_data(self):\n",
        "        print(self._protected_data)\n",
        "\n",
        "my_object = MyDerivedClass()\n",
        "my_object.display_protected_data() "
      ],
      "metadata": {
        "colab": {
          "base_uri": "https://localhost:8080/"
        },
        "id": "X76RogE9Kp3b",
        "outputId": "a965ea6f-021c-4070-ef51-811ad032b6a0"
      },
      "execution_count": null,
      "outputs": [
        {
          "output_type": "stream",
          "name": "stdout",
          "text": [
            "30\n"
          ]
        }
      ]
    },
    {
      "cell_type": "code",
      "source": [
        "class MyBaseClass:\n",
        "    def __init__(self):\n",
        "        self._protected_data = 30\n",
        "\n",
        "class MyDerivedClass(MyBaseClass):\n",
        "    def display_protected_data(self):\n",
        "        print(self._protected_data)\n",
        "\n",
        "my_object = MyBaseClass()\n",
        "my_object.display_protected_data()"
      ],
      "metadata": {
        "colab": {
          "base_uri": "https://localhost:8080/",
          "height": 208
        },
        "id": "1w5v8VCeLAPL",
        "outputId": "5aa6cc08-3fae-46e6-bfc0-4a77ed681afd"
      },
      "execution_count": null,
      "outputs": [
        {
          "output_type": "error",
          "ename": "AttributeError",
          "evalue": "ignored",
          "traceback": [
            "\u001b[0;31m---------------------------------------------------------------------------\u001b[0m",
            "\u001b[0;31mAttributeError\u001b[0m                            Traceback (most recent call last)",
            "\u001b[0;32m<ipython-input-9-7292b4a85c33>\u001b[0m in \u001b[0;36m<cell line: 10>\u001b[0;34m()\u001b[0m\n\u001b[1;32m      8\u001b[0m \u001b[0;34m\u001b[0m\u001b[0m\n\u001b[1;32m      9\u001b[0m \u001b[0mmy_object\u001b[0m \u001b[0;34m=\u001b[0m \u001b[0mMyBaseClass\u001b[0m\u001b[0;34m(\u001b[0m\u001b[0;34m)\u001b[0m\u001b[0;34m\u001b[0m\u001b[0;34m\u001b[0m\u001b[0m\n\u001b[0;32m---> 10\u001b[0;31m \u001b[0mmy_object\u001b[0m\u001b[0;34m.\u001b[0m\u001b[0mdisplay_protected_data\u001b[0m\u001b[0;34m(\u001b[0m\u001b[0;34m)\u001b[0m\u001b[0;34m\u001b[0m\u001b[0;34m\u001b[0m\u001b[0m\n\u001b[0m",
            "\u001b[0;31mAttributeError\u001b[0m: 'MyBaseClass' object has no attribute 'display_protected_data'"
          ]
        }
      ]
    },
    {
      "cell_type": "code",
      "source": [
        "import pandas as pd\n",
        "import csv\n",
        "\n",
        "file_path = \"Working_CSV_file.csv\"\n",
        "\n",
        "try:\n",
        "    file = open(file_path, 'w')\n",
        "    file.close()\n",
        "    print(f\"{file_path} has been created successfully!\")\n",
        "except Exception as e:\n",
        "    print(\"Something went wrong while creating!\", str(e))\n",
        "\n",
        "inner_datas = [[1, 2, 3], [10, 20, 30], [100, 200, 300]]\n",
        "\n",
        "try:\n",
        "    with open(file_path, 'w') as file:\n",
        "      csv_writer = csv.writer(file)\n",
        "      csv_writer.writerows(inner_datas)\n",
        "    print(f\"Writing has been done succefully!\")\n",
        "except Exception as e:\n",
        "    print(\"Something went wrong while writing!\", str(e))\n",
        "\n",
        "try:\n",
        "    with open(file_path, 'r') as file:\n",
        "      csv_reader = csv.reader(file)\n",
        "      for rows in csv_reader:\n",
        "        print(rows)\n",
        "except Exception as e:\n",
        "    print(\"Something went worng while reading!\", str(e))\n",
        "\n",
        "data = pd.read_csv(file_path)\n",
        "data['4'] = [500, 600]\n",
        "data['5'] = [700, 800]\n",
        "\n",
        "drop_data = data.drop(['1'], axis=1)\n",
        "drop_data.rename(columns = {'2' : \"First\", '3' : \"Second\", '4' : \"Third\", '5' : \"Fourth\"}, inplace=True)\n",
        "print(drop_data)\n",
        "\n",
        "\n",
        "\n"
      ],
      "metadata": {
        "id": "T-Gr-DXoEoN0",
        "colab": {
          "base_uri": "https://localhost:8080/"
        },
        "outputId": "950f8620-d0a7-40fd-a4b9-2543ce12df34"
      },
      "execution_count": 63,
      "outputs": [
        {
          "output_type": "stream",
          "name": "stdout",
          "text": [
            "Working_CSV_file.csv has been created successfully!\n",
            "Writing has been done succefully!\n",
            "['1', '2', '3']\n",
            "['10', '20', '30']\n",
            "['100', '200', '300']\n",
            "   First  Second  Third  Fourth\n",
            "0     20      30    500     700\n",
            "1    200     300    600     800\n"
          ]
        }
      ]
    }
  ]
}